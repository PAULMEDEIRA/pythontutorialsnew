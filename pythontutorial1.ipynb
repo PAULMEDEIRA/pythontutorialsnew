{
  "nbformat": 4,
  "nbformat_minor": 0,
  "metadata": {
    "colab": {
      "provenance": [],
      "authorship_tag": "ABX9TyPIKU53DZNOpfcFd9AfqUq4",
      "include_colab_link": true
    },
    "kernelspec": {
      "name": "python3",
      "display_name": "Python 3"
    },
    "language_info": {
      "name": "python"
    }
  },
  "cells": [
    {
      "cell_type": "markdown",
      "metadata": {
        "id": "view-in-github",
        "colab_type": "text"
      },
      "source": [
        "<a href=\"https://colab.research.google.com/github/PAULMEDEIRA/pythontutorialsnew/blob/main/pythontutorial1.ipynb\" target=\"_parent\"><img src=\"https://colab.research.google.com/assets/colab-badge.svg\" alt=\"Open In Colab\"/></a>"
      ]
    },
    {
      "cell_type": "code",
      "execution_count": 1,
      "metadata": {
        "id": "JX4S-fxc7eLV"
      },
      "outputs": [],
      "source": [
        "def my_func(i):\n",
        "  if i%2 ==0:\n",
        "    return i**3\n",
        "  else:\n",
        "    return i**2"
      ]
    },
    {
      "cell_type": "code",
      "source": [
        "print(my_func(2))"
      ],
      "metadata": {
        "id": "Cb_iRz68AgcV",
        "outputId": "705bf2eb-2db5-44aa-d07b-aee2d3876216",
        "colab": {
          "base_uri": "https://localhost:8080/"
        }
      },
      "execution_count": 4,
      "outputs": [
        {
          "output_type": "stream",
          "name": "stdout",
          "text": [
            "8\n"
          ]
        }
      ]
    }
  ]
}